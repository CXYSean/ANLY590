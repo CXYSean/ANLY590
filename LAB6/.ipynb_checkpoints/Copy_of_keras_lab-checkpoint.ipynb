{
 "cells": [
  {
   "cell_type": "code",
   "execution_count": 1,
   "metadata": {
    "id": "jS47B8K0JLkx"
   },
   "outputs": [
    {
     "name": "stderr",
     "output_type": "stream",
     "text": [
      "ERROR:root:Internal Python error in the inspect module.\n",
      "Below is the traceback from this internal error.\n",
      "\n"
     ]
    },
    {
     "name": "stdout",
     "output_type": "stream",
     "text": [
      "Traceback (most recent call last):\n",
      "  File \"/Users/xiyuchen/opt/anaconda3/lib/python3.7/site-packages/IPython/core/interactiveshell.py\", line 3326, in run_code\n",
      "    exec(code_obj, self.user_global_ns, self.user_ns)\n",
      "  File \"<ipython-input-1-db2e94a4bdc5>\", line 1, in <module>\n",
      "    import tensorflow as tf\n",
      "  File \"/Users/xiyuchen/opt/anaconda3/lib/python3.7/site-packages/tensorflow/__init__.py\", line 101, in <module>\n",
      "    from tensorflow_core import *\n",
      "  File \"/Users/xiyuchen/opt/anaconda3/lib/python3.7/site-packages/tensorflow_core/__init__.py\", line 46, in <module>\n",
      "    from . _api.v2 import compat\n",
      "  File \"/Users/xiyuchen/opt/anaconda3/lib/python3.7/site-packages/tensorflow_core/_api/v2/compat/__init__.py\", line 39, in <module>\n",
      "    from . import v1\n",
      "  File \"/Users/xiyuchen/opt/anaconda3/lib/python3.7/site-packages/tensorflow_core/_api/v2/compat/v1/__init__.py\", line 32, in <module>\n",
      "    from . import compat\n",
      "  File \"/Users/xiyuchen/opt/anaconda3/lib/python3.7/site-packages/tensorflow_core/_api/v2/compat/v1/compat/__init__.py\", line 39, in <module>\n",
      "    from . import v1\n",
      "  File \"/Users/xiyuchen/opt/anaconda3/lib/python3.7/site-packages/tensorflow_core/_api/v2/compat/v1/compat/v1/__init__.py\", line 29, in <module>\n",
      "    from tensorflow._api.v2.compat.v1 import app\n",
      "  File \"/Users/xiyuchen/opt/anaconda3/lib/python3.7/site-packages/tensorflow_core/_api/v2/compat/__init__.py\", line 39, in <module>\n",
      "    from . import v1\n",
      "  File \"/Users/xiyuchen/opt/anaconda3/lib/python3.7/site-packages/tensorflow_core/_api/v2/compat/v1/__init__.py\", line 32, in <module>\n",
      "    from . import compat\n",
      "  File \"/Users/xiyuchen/opt/anaconda3/lib/python3.7/site-packages/tensorflow_core/_api/v2/compat/v1/compat/__init__.py\", line 40, in <module>\n",
      "    from . import v2\n",
      "  File \"/Users/xiyuchen/opt/anaconda3/lib/python3.7/site-packages/tensorflow_core/_api/v2/compat/v1/compat/v2/__init__.py\", line 30, in <module>\n",
      "    from tensorflow._api.v2.compat.v2 import audio\n",
      "  File \"/Users/xiyuchen/opt/anaconda3/lib/python3.7/site-packages/tensorflow_core/_api/v2/compat/v2/__init__.py\", line 33, in <module>\n",
      "    from . import compat\n",
      "  File \"/Users/xiyuchen/opt/anaconda3/lib/python3.7/site-packages/tensorflow_core/_api/v2/compat/v2/compat/__init__.py\", line 40, in <module>\n",
      "    from . import v2\n",
      "  File \"/Users/xiyuchen/opt/anaconda3/lib/python3.7/site-packages/tensorflow_core/_api/v2/compat/v2/compat/v2/__init__.py\", line 320, in <module>\n",
      "    from tensorboard.summary._tf import summary\n",
      "  File \"/Users/xiyuchen/opt/anaconda3/lib/python3.7/site-packages/tensorboard/__init__.py\", line 4, in <module>\n",
      "    from .writer import FileWriter, SummaryWriter\n",
      "  File \"/Users/xiyuchen/opt/anaconda3/lib/python3.7/site-packages/tensorboard/writer.py\", line 28, in <module>\n",
      "    from .summary import scalar, histogram, image, audio, text\n",
      "  File \"/Users/xiyuchen/opt/anaconda3/lib/python3.7/site-packages/tensorboard/summary/__init__.py\", line 25, in <module>\n",
      "    from tensorboard.summary import v1\n",
      "  File \"/Users/xiyuchen/opt/anaconda3/lib/python3.7/site-packages/tensorboard/summary/v1.py\", line 24, in <module>\n",
      "    from tensorboard.plugins.audio import summary as _audio_summary\n",
      "  File \"/Users/xiyuchen/opt/anaconda3/lib/python3.7/site-packages/tensorboard/plugins/audio/summary.py\", line 36, in <module>\n",
      "    from tensorboard.plugins.audio import metadata\n",
      "  File \"/Users/xiyuchen/opt/anaconda3/lib/python3.7/site-packages/tensorboard/plugins/audio/metadata.py\", line 21, in <module>\n",
      "    from tensorboard.compat.proto import summary_pb2\n",
      "  File \"/Users/xiyuchen/opt/anaconda3/lib/python3.7/site-packages/tensorboard/compat/proto/summary_pb2.py\", line 16, in <module>\n",
      "    from tensorboard.compat.proto import tensor_pb2 as tensorboard_dot_compat_dot_proto_dot_tensor__pb2\n",
      "  File \"/Users/xiyuchen/opt/anaconda3/lib/python3.7/site-packages/tensorboard/compat/proto/tensor_pb2.py\", line 16, in <module>\n",
      "    from tensorboard.compat.proto import resource_handle_pb2 as tensorboard_dot_compat_dot_proto_dot_resource__handle__pb2\n",
      "  File \"/Users/xiyuchen/opt/anaconda3/lib/python3.7/site-packages/tensorboard/compat/proto/resource_handle_pb2.py\", line 16, in <module>\n",
      "    from tensorboard.compat.proto import tensor_shape_pb2 as tensorboard_dot_compat_dot_proto_dot_tensor__shape__pb2\n",
      "  File \"/Users/xiyuchen/opt/anaconda3/lib/python3.7/site-packages/tensorboard/compat/proto/tensor_shape_pb2.py\", line 23, in <module>\n",
      "    serialized_pb=_b('\\n+tensorboard/compat/proto/tensor_shape.proto\\x12\\x0btensorboard\\\"{\\n\\x10TensorShapeProto\\x12.\\n\\x03\\x64im\\x18\\x02 \\x03(\\x0b\\x32!.tensorboard.TensorShapeProto.Dim\\x12\\x14\\n\\x0cunknown_rank\\x18\\x03 \\x01(\\x08\\x1a!\\n\\x03\\x44im\\x12\\x0c\\n\\x04size\\x18\\x01 \\x01(\\x03\\x12\\x0c\\n\\x04name\\x18\\x02 \\x01(\\tBq\\n\\x18org.tensorflow.frameworkB\\x11TensorShapeProtosP\\x01Z=github.com/tensorflow/tensorflow/tensorflow/go/core/framework\\xf8\\x01\\x01\\x62\\x06proto3')\n",
      "  File \"/Users/xiyuchen/opt/anaconda3/lib/python3.7/site-packages/google/protobuf/descriptor.py\", line 941, in __new__\n",
      "    return _message.default_pool.AddSerializedFile(serialized_pb)\n",
      "TypeError: Couldn't build proto file into descriptor pool!\n",
      "Invalid proto descriptor for file \"tensorboard/compat/proto/tensor_shape.proto\":\n",
      "  tensorboard.TensorShapeProto.dim: \"tensorboard.TensorShapeProto.dim\" is already defined in file \"tensorboard/src/tensor_shape.proto\".\n",
      "  tensorboard.TensorShapeProto.unknown_rank: \"tensorboard.TensorShapeProto.unknown_rank\" is already defined in file \"tensorboard/src/tensor_shape.proto\".\n",
      "  tensorboard.TensorShapeProto.Dim.size: \"tensorboard.TensorShapeProto.Dim.size\" is already defined in file \"tensorboard/src/tensor_shape.proto\".\n",
      "  tensorboard.TensorShapeProto.Dim.name: \"tensorboard.TensorShapeProto.Dim.name\" is already defined in file \"tensorboard/src/tensor_shape.proto\".\n",
      "  tensorboard.TensorShapeProto.Dim: \"tensorboard.TensorShapeProto.Dim\" is already defined in file \"tensorboard/src/tensor_shape.proto\".\n",
      "  tensorboard.TensorShapeProto: \"tensorboard.TensorShapeProto\" is already defined in file \"tensorboard/src/tensor_shape.proto\".\n",
      "  tensorboard.TensorShapeProto.dim: \"tensorboard.TensorShapeProto.Dim\" seems to be defined in \"tensorboard/src/tensor_shape.proto\", which is not imported by \"tensorboard/compat/proto/tensor_shape.proto\".  To use it here, please add the necessary import.\n",
      "\n",
      "\n",
      "During handling of the above exception, another exception occurred:\n",
      "\n",
      "Traceback (most recent call last):\n",
      "  File \"/Users/xiyuchen/opt/anaconda3/lib/python3.7/site-packages/IPython/core/interactiveshell.py\", line 2040, in showtraceback\n",
      "    stb = value._render_traceback_()\n",
      "AttributeError: 'TypeError' object has no attribute '_render_traceback_'\n",
      "\n",
      "During handling of the above exception, another exception occurred:\n",
      "\n",
      "Traceback (most recent call last):\n",
      "  File \"/Users/xiyuchen/opt/anaconda3/lib/python3.7/site-packages/IPython/core/ultratb.py\", line 1101, in get_records\n",
      "    return _fixed_getinnerframes(etb, number_of_lines_of_context, tb_offset)\n",
      "  File \"/Users/xiyuchen/opt/anaconda3/lib/python3.7/site-packages/IPython/core/ultratb.py\", line 319, in wrapped\n",
      "    return f(*args, **kwargs)\n",
      "  File \"/Users/xiyuchen/opt/anaconda3/lib/python3.7/site-packages/IPython/core/ultratb.py\", line 353, in _fixed_getinnerframes\n",
      "    records = fix_frame_records_filenames(inspect.getinnerframes(etb, context))\n",
      "  File \"/Users/xiyuchen/opt/anaconda3/lib/python3.7/inspect.py\", line 1502, in getinnerframes\n",
      "    frameinfo = (tb.tb_frame,) + getframeinfo(tb, context)\n",
      "  File \"/Users/xiyuchen/opt/anaconda3/lib/python3.7/inspect.py\", line 1460, in getframeinfo\n",
      "    filename = getsourcefile(frame) or getfile(frame)\n",
      "  File \"/Users/xiyuchen/opt/anaconda3/lib/python3.7/inspect.py\", line 696, in getsourcefile\n",
      "    if getattr(getmodule(object, filename), '__loader__', None) is not None:\n",
      "  File \"/Users/xiyuchen/opt/anaconda3/lib/python3.7/inspect.py\", line 733, in getmodule\n",
      "    if ismodule(module) and hasattr(module, '__file__'):\n",
      "  File \"/Users/xiyuchen/opt/anaconda3/lib/python3.7/site-packages/tensorflow/__init__.py\", line 50, in __getattr__\n",
      "    module = self._load()\n",
      "  File \"/Users/xiyuchen/opt/anaconda3/lib/python3.7/site-packages/tensorflow/__init__.py\", line 44, in _load\n",
      "    module = _importlib.import_module(self.__name__)\n",
      "  File \"/Users/xiyuchen/opt/anaconda3/lib/python3.7/importlib/__init__.py\", line 127, in import_module\n",
      "    return _bootstrap._gcd_import(name[level:], package, level)\n",
      "  File \"<frozen importlib._bootstrap>\", line 1006, in _gcd_import\n",
      "  File \"<frozen importlib._bootstrap>\", line 983, in _find_and_load\n",
      "  File \"<frozen importlib._bootstrap>\", line 953, in _find_and_load_unlocked\n",
      "  File \"<frozen importlib._bootstrap>\", line 219, in _call_with_frames_removed\n",
      "  File \"<frozen importlib._bootstrap>\", line 1006, in _gcd_import\n",
      "  File \"<frozen importlib._bootstrap>\", line 983, in _find_and_load\n",
      "  File \"<frozen importlib._bootstrap>\", line 967, in _find_and_load_unlocked\n",
      "  File \"<frozen importlib._bootstrap>\", line 677, in _load_unlocked\n",
      "  File \"<frozen importlib._bootstrap_external>\", line 728, in exec_module\n",
      "  File \"<frozen importlib._bootstrap>\", line 219, in _call_with_frames_removed\n",
      "  File \"/Users/xiyuchen/opt/anaconda3/lib/python3.7/site-packages/tensorflow_core/__init__.py\", line 46, in <module>\n",
      "    from . _api.v2 import compat\n",
      "  File \"/Users/xiyuchen/opt/anaconda3/lib/python3.7/site-packages/tensorflow_core/_api/v2/compat/__init__.py\", line 39, in <module>\n",
      "    from . import v1\n",
      "  File \"/Users/xiyuchen/opt/anaconda3/lib/python3.7/site-packages/tensorflow_core/_api/v2/compat/v1/__init__.py\", line 32, in <module>\n",
      "    from . import compat\n",
      "  File \"/Users/xiyuchen/opt/anaconda3/lib/python3.7/site-packages/tensorflow_core/_api/v2/compat/v1/compat/__init__.py\", line 39, in <module>\n",
      "    from . import v1\n",
      "  File \"/Users/xiyuchen/opt/anaconda3/lib/python3.7/site-packages/tensorflow_core/_api/v2/compat/v1/compat/v1/__init__.py\", line 29, in <module>\n",
      "    from tensorflow._api.v2.compat.v1 import app\n",
      "  File \"/Users/xiyuchen/opt/anaconda3/lib/python3.7/site-packages/tensorflow_core/_api/v2/compat/__init__.py\", line 39, in <module>\n",
      "    from . import v1\n",
      "  File \"/Users/xiyuchen/opt/anaconda3/lib/python3.7/site-packages/tensorflow_core/_api/v2/compat/v1/__init__.py\", line 32, in <module>\n",
      "    from . import compat\n",
      "  File \"/Users/xiyuchen/opt/anaconda3/lib/python3.7/site-packages/tensorflow_core/_api/v2/compat/v1/compat/__init__.py\", line 40, in <module>\n",
      "    from . import v2\n",
      "  File \"/Users/xiyuchen/opt/anaconda3/lib/python3.7/site-packages/tensorflow_core/_api/v2/compat/v1/compat/v2/__init__.py\", line 30, in <module>\n",
      "    from tensorflow._api.v2.compat.v2 import audio\n",
      "  File \"/Users/xiyuchen/opt/anaconda3/lib/python3.7/site-packages/tensorflow_core/_api/v2/compat/v2/__init__.py\", line 33, in <module>\n",
      "    from . import compat\n",
      "  File \"/Users/xiyuchen/opt/anaconda3/lib/python3.7/site-packages/tensorflow_core/_api/v2/compat/v2/compat/__init__.py\", line 40, in <module>\n",
      "    from . import v2\n",
      "  File \"/Users/xiyuchen/opt/anaconda3/lib/python3.7/site-packages/tensorflow_core/_api/v2/compat/v2/compat/v2/__init__.py\", line 320, in <module>\n",
      "    from tensorboard.summary._tf import summary\n",
      "  File \"/Users/xiyuchen/opt/anaconda3/lib/python3.7/site-packages/tensorboard/__init__.py\", line 4, in <module>\n",
      "    from .writer import FileWriter, SummaryWriter\n",
      "  File \"/Users/xiyuchen/opt/anaconda3/lib/python3.7/site-packages/tensorboard/writer.py\", line 28, in <module>\n",
      "    from .summary import scalar, histogram, image, audio, text\n",
      "  File \"/Users/xiyuchen/opt/anaconda3/lib/python3.7/site-packages/tensorboard/summary/__init__.py\", line 25, in <module>\n",
      "    from tensorboard.summary import v1\n",
      "  File \"/Users/xiyuchen/opt/anaconda3/lib/python3.7/site-packages/tensorboard/summary/v1.py\", line 24, in <module>\n",
      "    from tensorboard.plugins.audio import summary as _audio_summary\n",
      "  File \"/Users/xiyuchen/opt/anaconda3/lib/python3.7/site-packages/tensorboard/plugins/audio/summary.py\", line 36, in <module>\n",
      "    from tensorboard.plugins.audio import metadata\n",
      "  File \"/Users/xiyuchen/opt/anaconda3/lib/python3.7/site-packages/tensorboard/plugins/audio/metadata.py\", line 21, in <module>\n",
      "    from tensorboard.compat.proto import summary_pb2\n",
      "  File \"/Users/xiyuchen/opt/anaconda3/lib/python3.7/site-packages/tensorboard/compat/proto/summary_pb2.py\", line 16, in <module>\n",
      "    from tensorboard.compat.proto import tensor_pb2 as tensorboard_dot_compat_dot_proto_dot_tensor__pb2\n",
      "  File \"/Users/xiyuchen/opt/anaconda3/lib/python3.7/site-packages/tensorboard/compat/proto/tensor_pb2.py\", line 16, in <module>\n",
      "    from tensorboard.compat.proto import resource_handle_pb2 as tensorboard_dot_compat_dot_proto_dot_resource__handle__pb2\n",
      "  File \"/Users/xiyuchen/opt/anaconda3/lib/python3.7/site-packages/tensorboard/compat/proto/resource_handle_pb2.py\", line 16, in <module>\n",
      "    from tensorboard.compat.proto import tensor_shape_pb2 as tensorboard_dot_compat_dot_proto_dot_tensor__shape__pb2\n",
      "  File \"/Users/xiyuchen/opt/anaconda3/lib/python3.7/site-packages/tensorboard/compat/proto/tensor_shape_pb2.py\", line 23, in <module>\n",
      "    serialized_pb=_b('\\n+tensorboard/compat/proto/tensor_shape.proto\\x12\\x0btensorboard\\\"{\\n\\x10TensorShapeProto\\x12.\\n\\x03\\x64im\\x18\\x02 \\x03(\\x0b\\x32!.tensorboard.TensorShapeProto.Dim\\x12\\x14\\n\\x0cunknown_rank\\x18\\x03 \\x01(\\x08\\x1a!\\n\\x03\\x44im\\x12\\x0c\\n\\x04size\\x18\\x01 \\x01(\\x03\\x12\\x0c\\n\\x04name\\x18\\x02 \\x01(\\tBq\\n\\x18org.tensorflow.frameworkB\\x11TensorShapeProtosP\\x01Z=github.com/tensorflow/tensorflow/tensorflow/go/core/framework\\xf8\\x01\\x01\\x62\\x06proto3')\n",
      "  File \"/Users/xiyuchen/opt/anaconda3/lib/python3.7/site-packages/google/protobuf/descriptor.py\", line 941, in __new__\n",
      "    return _message.default_pool.AddSerializedFile(serialized_pb)\n",
      "TypeError: Couldn't build proto file into descriptor pool!\n",
      "Invalid proto descriptor for file \"tensorboard/compat/proto/tensor_shape.proto\":\n",
      "  tensorboard.TensorShapeProto.dim: \"tensorboard.TensorShapeProto.dim\" is already defined in file \"tensorboard/src/tensor_shape.proto\".\n",
      "  tensorboard.TensorShapeProto.unknown_rank: \"tensorboard.TensorShapeProto.unknown_rank\" is already defined in file \"tensorboard/src/tensor_shape.proto\".\n",
      "  tensorboard.TensorShapeProto.Dim.size: \"tensorboard.TensorShapeProto.Dim.size\" is already defined in file \"tensorboard/src/tensor_shape.proto\".\n",
      "  tensorboard.TensorShapeProto.Dim.name: \"tensorboard.TensorShapeProto.Dim.name\" is already defined in file \"tensorboard/src/tensor_shape.proto\".\n",
      "  tensorboard.TensorShapeProto.Dim: \"tensorboard.TensorShapeProto.Dim\" is already defined in file \"tensorboard/src/tensor_shape.proto\".\n",
      "  tensorboard.TensorShapeProto: \"tensorboard.TensorShapeProto\" is already defined in file \"tensorboard/src/tensor_shape.proto\".\n",
      "  tensorboard.TensorShapeProto.dim: \"tensorboard.TensorShapeProto.Dim\" seems to be defined in \"tensorboard/src/tensor_shape.proto\", which is not imported by \"tensorboard/compat/proto/tensor_shape.proto\".  To use it here, please add the necessary import.\n",
      "\n"
     ]
    },
    {
     "ename": "TypeError",
     "evalue": "Couldn't build proto file into descriptor pool!\nInvalid proto descriptor for file \"tensorboard/compat/proto/tensor_shape.proto\":\n  tensorboard.TensorShapeProto.dim: \"tensorboard.TensorShapeProto.dim\" is already defined in file \"tensorboard/src/tensor_shape.proto\".\n  tensorboard.TensorShapeProto.unknown_rank: \"tensorboard.TensorShapeProto.unknown_rank\" is already defined in file \"tensorboard/src/tensor_shape.proto\".\n  tensorboard.TensorShapeProto.Dim.size: \"tensorboard.TensorShapeProto.Dim.size\" is already defined in file \"tensorboard/src/tensor_shape.proto\".\n  tensorboard.TensorShapeProto.Dim.name: \"tensorboard.TensorShapeProto.Dim.name\" is already defined in file \"tensorboard/src/tensor_shape.proto\".\n  tensorboard.TensorShapeProto.Dim: \"tensorboard.TensorShapeProto.Dim\" is already defined in file \"tensorboard/src/tensor_shape.proto\".\n  tensorboard.TensorShapeProto: \"tensorboard.TensorShapeProto\" is already defined in file \"tensorboard/src/tensor_shape.proto\".\n  tensorboard.TensorShapeProto.dim: \"tensorboard.TensorShapeProto.Dim\" seems to be defined in \"tensorboard/src/tensor_shape.proto\", which is not imported by \"tensorboard/compat/proto/tensor_shape.proto\".  To use it here, please add the necessary import.\n",
     "output_type": "error",
     "traceback": [
      "\u001b[0;31m---------------------------------------------------------------------------\u001b[0m"
     ]
    }
   ],
   "source": [
    "import tensorflow as tf\n",
    "import tensorflow.keras as tfk\n",
    "import tensorflow.keras.layers as tfkl\n",
    "import numpy as np\n",
    "import matplotlib.pyplot as plt"
   ]
  },
  {
   "cell_type": "markdown",
   "metadata": {
    "id": "iehoGWa6SSWU"
   },
   "source": [
    "### regression\n",
    "\n",
    "Let's start by using `keras` to make a neural network for a simple regression task where both the input and the output as 1-dimensional. Below is some code that will produce the dataset for you to train on.\n",
    "\n",
    "Here are some general steps to follow:\n",
    "1. Define your model by passing `tfk.Sequential` a list of layers (found in `tf.keras.layers`, which is already imported for you by the shorter name `tfkl`, since you will use this module many times.\n",
    "2. Your first layers should be a `tfkl.Input` layer that specifies the shape of the input (it will automatically include an empty first dimension with size `None` as a placehold for the batch size).\n",
    "3. The rest of your layers should be `tfkl.Dense` layers; you will be to specify the number of neurons/units as well as the activation function (you can find those in `tf.nn`, and you can use `None` for a \"linear\" activation function, $f(x)=x$). Make sure you pick an output function that makes sense for this prediction task!\n",
    "4. Choose an appropriate optimizer from `tfk.optimizers` and an appropriate loss function from `tfk.losses` (both are classes that wil need to be initialized), and then pass them to `model.compile` to compile your model.\n",
    "5. Call `model.fit` to fit your model and collect the results\n",
    "6. Plot your training curve (loss vs training step)\n",
    "7. Call your model (`model(...)`) on a grid of inputs (code to make the grid provided) and plot the relationship your model learned against the true relationship (defined as `f` in the code below)."
   ]
  },
  {
   "cell_type": "code",
   "execution_count": null,
   "metadata": {
    "id": "HDgsWoAKJbxz"
   },
   "outputs": [],
   "source": [
    "def regression_data(N):\n",
    "    x = np.random.uniform(low=-5.0, high=5.0, size=(N, 1)).astype(np.float32)\n",
    "    e = 0.2 * np.random.normal(size=(N, 1)).astype(np.float32)\n",
    "    f = lambda x: 0.2 * x**2 * np.sin(2 * np.pi * x / 6)\n",
    "    y = f(x) + e\n",
    "    return x, y\n",
    "\n",
    "N = 100\n",
    "x, y = regression_data(N)\n",
    "\n",
    "plt.scatter(x, y, s=10)\n",
    "plt.show()"
   ]
  },
  {
   "cell_type": "code",
   "execution_count": null,
   "metadata": {
    "id": "vBzgG7E0KmFR"
   },
   "outputs": [],
   "source": [
    "# your code here"
   ]
  },
  {
   "cell_type": "code",
   "execution_count": null,
   "metadata": {
    "id": "pULO0BniMAL2"
   },
   "outputs": [],
   "source": [
    "x_grid = np.linspace(x.min(), x.max(), 200).astype(np.float32)[:, np.newaxis]\n",
    "y_true = f(x_grid)\n",
    "# your code here"
   ]
  },
  {
   "cell_type": "markdown",
   "metadata": {
    "id": "Dc59MczHVrc9"
   },
   "source": [
    "### binary classification\n",
    "\n",
    "Here is another dataset that differs in two key ways from the regression example we just worked:\n",
    "1. The input is now 2-dimensional\n",
    "2. The targets are now binary classes\n",
    "\n",
    "Update your model to handle both of these changes and try fitting this new data. Think about the following:\n",
    "- input shape\n",
    "- output function\n",
    "- loss function\n",
    "\n",
    "Since visualizing the results is a bit tricky, we have provided some code for that."
   ]
  },
  {
   "cell_type": "code",
   "execution_count": null,
   "metadata": {
    "id": "NMg8n9NRGo_9"
   },
   "outputs": [],
   "source": [
    "N = 200\n",
    "def binary_classification_data(N):\n",
    "  x = np.random.uniform(low=-5, high=5, size=(N, 2))\n",
    "  y = (x[:, 0] * x[:, 1] > 0).astype(np.int)\n",
    "  return x, y\n",
    "\n",
    "x_train, y_train = binary_classification_data(N)\n",
    "x_test, y_test = binary_classification_data(N)\n",
    "\n",
    "plt.figure(figsize=(7, 7))\n",
    "plt.scatter(x_train[:, 0], x_train[:, 1], s=10, c=y_train, cmap='coolwarm')\n",
    "plt.show()"
   ]
  },
  {
   "cell_type": "code",
   "execution_count": null,
   "metadata": {
    "id": "t4P6Ez3VJzQk"
   },
   "outputs": [],
   "source": [
    "# your code here"
   ]
  },
  {
   "cell_type": "code",
   "execution_count": null,
   "metadata": {
    "id": "5ZUclc8PKqEC"
   },
   "outputs": [],
   "source": [
    "def binary_preds(model, x_minmax=5):\n",
    "  x_grid = np.linspace(-x_minmax, x_minmax, 100)\n",
    "  mesh = np.meshgrid(x_grid, x_grid)\n",
    "  xs_grid = np.stack(mesh, axis=-1)\n",
    "  yhat = model(xs_grid).numpy().squeeze()\n",
    "\n",
    "\n",
    "  plt.imshow(yhat, cmap='coolwarm')\n",
    "  plt.colorbar()\n",
    "\n",
    "# your code here"
   ]
  },
  {
   "cell_type": "markdown",
   "metadata": {
    "id": "f6NPT8dsWWXW"
   },
   "source": [
    "### general classfication\n",
    "\n",
    "Finally we will download and train on some real data to learn about general classification. Here is some code that will download and show some metadata about the MNIST dataset -- a collectin of handwritten digits.\n",
    "\n",
    "Update your model to work on this data so that you model can predict the digit from its image. One new thing to keep in mind: these inputs are 2D. Later in the course we will learn about convolutional neural nets for handing such inputs more naturally, but for now, update your `tfkl.Input` layer to be 2-dimensional and then add a `tfkl.Flatten()` layer right after it to unravel the 2-d image into a 1-d vector of pixels.\n",
    "\n",
    "Again, visualalizing the output is a bit tricky, so we have provided some code to help."
   ]
  },
  {
   "cell_type": "code",
   "execution_count": null,
   "metadata": {
    "id": "TQl7DZmBNvm_"
   },
   "outputs": [],
   "source": [
    "import tensorflow_datasets as tfds\n",
    "\n",
    "ds, metadata = tfds.load('mnist', with_info=True)\n",
    "print(metadata)"
   ]
  },
  {
   "cell_type": "code",
   "execution_count": null,
   "metadata": {
    "id": "bKre0z2HOCDm"
   },
   "outputs": [],
   "source": [
    "# your code here"
   ]
  },
  {
   "cell_type": "code",
   "execution_count": null,
   "metadata": {
    "id": "oJ17dcdQOt_w"
   },
   "outputs": [],
   "source": [
    "mnist_viz(model):\n",
    "  ims, labels = next(iter(ds['test'].unbatch().batch(10)))\n",
    "  yhat = model(ims)\n",
    "  ypred = tf.argmax(yhat)\n",
    "\n",
    "  plt.figure(figsize=(10, 40))\n",
    "  for i in range(10):\n",
    "    plt.subplot(10, 2, 2*i+1)\n",
    "    plt.imshow(ims[i].numpy().squeeze(), cmap='bone')\n",
    "    plt.subplot(10, 2, 2*i+2)\n",
    "    plt.bar(np.arange(10), yhat[i].numpy())\n",
    "    plt.ylim([0, 1])\n",
    "  plt.show()\n",
    "\n",
    "# your code here"
   ]
  }
 ],
 "metadata": {
  "accelerator": "TPU",
  "colab": {
   "name": "Copy of keras-lab.ipynb",
   "provenance": []
  },
  "kernelspec": {
   "display_name": "Python 3.7.4 64-bit ('base': conda)",
   "language": "python",
   "name": "python37464bitbaseconda90e4e3a9f4f847ca90ac26ebde9628af"
  },
  "language_info": {
   "codemirror_mode": {
    "name": "ipython",
    "version": 3
   },
   "file_extension": ".py",
   "mimetype": "text/x-python",
   "name": "python",
   "nbconvert_exporter": "python",
   "pygments_lexer": "ipython3",
   "version": "3.7.4"
  }
 },
 "nbformat": 4,
 "nbformat_minor": 1
}
